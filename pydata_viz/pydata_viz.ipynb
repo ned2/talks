{
 "cells": [
  {
   "cell_type": "code",
   "execution_count": null,
   "metadata": {},
   "outputs": [],
   "source": [
    "%load_ext autoreload\n",
    "%autoreload 2"
   ]
  },
  {
   "cell_type": "markdown",
   "metadata": {
    "slideshow": {
     "slide_type": "slide"
    }
   },
   "source": [
    "# Doing Data Viz in Python\n",
    "\n",
    "Ned Letcher\n",
    "\n",
    "[nedned.net](http://nedned.net)"
   ]
  },
  {
   "cell_type": "markdown",
   "metadata": {
    "slideshow": {
     "slide_type": "slide"
    }
   },
   "source": [
    "### Goal of data analysis\n",
    "\n",
    "_Derive information and insights in order to improve our understanding and inform decision making_"
   ]
  },
  {
   "cell_type": "markdown",
   "metadata": {
    "slideshow": {
     "slide_type": "fragment"
    }
   },
   "source": [
    "### Relevance of data visualisation\n",
    "1. Analysise and explore\n",
    "2. Communicate findings"
   ]
  },
  {
   "cell_type": "markdown",
   "metadata": {
    "slideshow": {
     "slide_type": "slide"
    }
   },
   "source": [
    "This talk is about showing you Python tools for how to achieve these goals, and some tips for how to use them \n"
   ]
  },
  {
   "cell_type": "markdown",
   "metadata": {},
   "source": [
    "## Data Viz for exploratory data analysis"
   ]
  },
  {
   "cell_type": "markdown",
   "metadata": {},
   "source": [
    "### Your Task\n",
    "\n",
    "Use the Melbourne City Council [Pedestrian Counting System dataset](https://data.melbourne.vic.gov.au/Transport/Pedestrian-Counting-System-2009-to-Present-counts-/b2ak-trbp) for answer the following question:\n",
    "\n",
    "_How has the COVID-19 pandemic impacted foot traffic in the Melbourne CBD?_"
   ]
  },
  {
   "cell_type": "markdown",
   "metadata": {},
   "source": [
    "### Data prep"
   ]
  },
  {
   "cell_type": "code",
   "execution_count": 18,
   "metadata": {},
   "outputs": [],
   "source": [
    "from pathlib import Path\n",
    "\n",
    "DATA_PATH = Path(\"data/Pedestrian_Counting_System___2009_to_Present__counts_per_hour_.csv\")"
   ]
  },
  {
   "cell_type": "code",
   "execution_count": 20,
   "metadata": {},
   "outputs": [
    {
     "data": {
      "text/html": [
       "<div>\n",
       "<style scoped>\n",
       "    .dataframe tbody tr th:only-of-type {\n",
       "        vertical-align: middle;\n",
       "    }\n",
       "\n",
       "    .dataframe tbody tr th {\n",
       "        vertical-align: top;\n",
       "    }\n",
       "\n",
       "    .dataframe thead th {\n",
       "        text-align: right;\n",
       "    }\n",
       "</style>\n",
       "<table border=\"1\" class=\"dataframe\">\n",
       "  <thead>\n",
       "    <tr style=\"text-align: right;\">\n",
       "      <th></th>\n",
       "      <th>ID</th>\n",
       "      <th>Date_Time</th>\n",
       "      <th>Year</th>\n",
       "      <th>Month</th>\n",
       "      <th>Mdate</th>\n",
       "      <th>Day</th>\n",
       "      <th>Time</th>\n",
       "      <th>Sensor_ID</th>\n",
       "      <th>Sensor_Name</th>\n",
       "      <th>Hourly_Counts</th>\n",
       "    </tr>\n",
       "  </thead>\n",
       "  <tbody>\n",
       "    <tr>\n",
       "      <th>0</th>\n",
       "      <td>2887628</td>\n",
       "      <td>11/01/2019 05:00:00 PM</td>\n",
       "      <td>2019</td>\n",
       "      <td>November</td>\n",
       "      <td>1</td>\n",
       "      <td>Friday</td>\n",
       "      <td>17</td>\n",
       "      <td>34</td>\n",
       "      <td>Flinders St-Spark La</td>\n",
       "      <td>300</td>\n",
       "    </tr>\n",
       "    <tr>\n",
       "      <th>1</th>\n",
       "      <td>2887629</td>\n",
       "      <td>11/01/2019 05:00:00 PM</td>\n",
       "      <td>2019</td>\n",
       "      <td>November</td>\n",
       "      <td>1</td>\n",
       "      <td>Friday</td>\n",
       "      <td>17</td>\n",
       "      <td>39</td>\n",
       "      <td>Alfred Place</td>\n",
       "      <td>604</td>\n",
       "    </tr>\n",
       "    <tr>\n",
       "      <th>2</th>\n",
       "      <td>2887630</td>\n",
       "      <td>11/01/2019 05:00:00 PM</td>\n",
       "      <td>2019</td>\n",
       "      <td>November</td>\n",
       "      <td>1</td>\n",
       "      <td>Friday</td>\n",
       "      <td>17</td>\n",
       "      <td>37</td>\n",
       "      <td>Lygon St (East)</td>\n",
       "      <td>216</td>\n",
       "    </tr>\n",
       "    <tr>\n",
       "      <th>3</th>\n",
       "      <td>2887631</td>\n",
       "      <td>11/01/2019 05:00:00 PM</td>\n",
       "      <td>2019</td>\n",
       "      <td>November</td>\n",
       "      <td>1</td>\n",
       "      <td>Friday</td>\n",
       "      <td>17</td>\n",
       "      <td>40</td>\n",
       "      <td>Lonsdale St-Spring St (West)</td>\n",
       "      <td>627</td>\n",
       "    </tr>\n",
       "    <tr>\n",
       "      <th>4</th>\n",
       "      <td>2887632</td>\n",
       "      <td>11/01/2019 05:00:00 PM</td>\n",
       "      <td>2019</td>\n",
       "      <td>November</td>\n",
       "      <td>1</td>\n",
       "      <td>Friday</td>\n",
       "      <td>17</td>\n",
       "      <td>36</td>\n",
       "      <td>Queen St (West)</td>\n",
       "      <td>774</td>\n",
       "    </tr>\n",
       "  </tbody>\n",
       "</table>\n",
       "</div>"
      ],
      "text/plain": [
       "        ID               Date_Time  Year     Month  Mdate     Day  Time  \\\n",
       "0  2887628  11/01/2019 05:00:00 PM  2019  November      1  Friday    17   \n",
       "1  2887629  11/01/2019 05:00:00 PM  2019  November      1  Friday    17   \n",
       "2  2887630  11/01/2019 05:00:00 PM  2019  November      1  Friday    17   \n",
       "3  2887631  11/01/2019 05:00:00 PM  2019  November      1  Friday    17   \n",
       "4  2887632  11/01/2019 05:00:00 PM  2019  November      1  Friday    17   \n",
       "\n",
       "   Sensor_ID                   Sensor_Name  Hourly_Counts  \n",
       "0         34          Flinders St-Spark La            300  \n",
       "1         39                  Alfred Place            604  \n",
       "2         37               Lygon St (East)            216  \n",
       "3         40  Lonsdale St-Spring St (West)            627  \n",
       "4         36               Queen St (West)            774  "
      ]
     },
     "execution_count": 20,
     "metadata": {},
     "output_type": "execute_result"
    }
   ],
   "source": [
    "import pandas as pd\n",
    "\n",
    "df = pd.read_csv(DATA_PATH)\n",
    "df.head()"
   ]
  },
  {
   "cell_type": "code",
   "execution_count": 21,
   "metadata": {},
   "outputs": [
    {
     "data": {
      "text/html": [
       "<div>\n",
       "<style scoped>\n",
       "    .dataframe tbody tr th:only-of-type {\n",
       "        vertical-align: middle;\n",
       "    }\n",
       "\n",
       "    .dataframe tbody tr th {\n",
       "        vertical-align: top;\n",
       "    }\n",
       "\n",
       "    .dataframe thead th {\n",
       "        text-align: right;\n",
       "    }\n",
       "</style>\n",
       "<table border=\"1\" class=\"dataframe\">\n",
       "  <thead>\n",
       "    <tr style=\"text-align: right;\">\n",
       "      <th></th>\n",
       "      <th>ID</th>\n",
       "      <th>Date_Time</th>\n",
       "      <th>Year</th>\n",
       "      <th>Month</th>\n",
       "      <th>Mdate</th>\n",
       "      <th>Day</th>\n",
       "      <th>Time</th>\n",
       "      <th>Sensor_ID</th>\n",
       "      <th>Sensor_Name</th>\n",
       "      <th>Hourly_Counts</th>\n",
       "      <th>datetime</th>\n",
       "    </tr>\n",
       "  </thead>\n",
       "  <tbody>\n",
       "    <tr>\n",
       "      <th>0</th>\n",
       "      <td>2887628</td>\n",
       "      <td>11/01/2019 05:00:00 PM</td>\n",
       "      <td>2019</td>\n",
       "      <td>November</td>\n",
       "      <td>1</td>\n",
       "      <td>Friday</td>\n",
       "      <td>17</td>\n",
       "      <td>34</td>\n",
       "      <td>Flinders St-Spark La</td>\n",
       "      <td>300</td>\n",
       "      <td>2019-11-01 17:00:00</td>\n",
       "    </tr>\n",
       "    <tr>\n",
       "      <th>1</th>\n",
       "      <td>2887629</td>\n",
       "      <td>11/01/2019 05:00:00 PM</td>\n",
       "      <td>2019</td>\n",
       "      <td>November</td>\n",
       "      <td>1</td>\n",
       "      <td>Friday</td>\n",
       "      <td>17</td>\n",
       "      <td>39</td>\n",
       "      <td>Alfred Place</td>\n",
       "      <td>604</td>\n",
       "      <td>2019-11-01 17:00:00</td>\n",
       "    </tr>\n",
       "    <tr>\n",
       "      <th>2</th>\n",
       "      <td>2887630</td>\n",
       "      <td>11/01/2019 05:00:00 PM</td>\n",
       "      <td>2019</td>\n",
       "      <td>November</td>\n",
       "      <td>1</td>\n",
       "      <td>Friday</td>\n",
       "      <td>17</td>\n",
       "      <td>37</td>\n",
       "      <td>Lygon St (East)</td>\n",
       "      <td>216</td>\n",
       "      <td>2019-11-01 17:00:00</td>\n",
       "    </tr>\n",
       "    <tr>\n",
       "      <th>3</th>\n",
       "      <td>2887631</td>\n",
       "      <td>11/01/2019 05:00:00 PM</td>\n",
       "      <td>2019</td>\n",
       "      <td>November</td>\n",
       "      <td>1</td>\n",
       "      <td>Friday</td>\n",
       "      <td>17</td>\n",
       "      <td>40</td>\n",
       "      <td>Lonsdale St-Spring St (West)</td>\n",
       "      <td>627</td>\n",
       "      <td>2019-11-01 17:00:00</td>\n",
       "    </tr>\n",
       "    <tr>\n",
       "      <th>4</th>\n",
       "      <td>2887632</td>\n",
       "      <td>11/01/2019 05:00:00 PM</td>\n",
       "      <td>2019</td>\n",
       "      <td>November</td>\n",
       "      <td>1</td>\n",
       "      <td>Friday</td>\n",
       "      <td>17</td>\n",
       "      <td>36</td>\n",
       "      <td>Queen St (West)</td>\n",
       "      <td>774</td>\n",
       "      <td>2019-11-01 17:00:00</td>\n",
       "    </tr>\n",
       "  </tbody>\n",
       "</table>\n",
       "</div>"
      ],
      "text/plain": [
       "        ID               Date_Time  Year     Month  Mdate     Day  Time  \\\n",
       "0  2887628  11/01/2019 05:00:00 PM  2019  November      1  Friday    17   \n",
       "1  2887629  11/01/2019 05:00:00 PM  2019  November      1  Friday    17   \n",
       "2  2887630  11/01/2019 05:00:00 PM  2019  November      1  Friday    17   \n",
       "3  2887631  11/01/2019 05:00:00 PM  2019  November      1  Friday    17   \n",
       "4  2887632  11/01/2019 05:00:00 PM  2019  November      1  Friday    17   \n",
       "\n",
       "   Sensor_ID                   Sensor_Name  Hourly_Counts            datetime  \n",
       "0         34          Flinders St-Spark La            300 2019-11-01 17:00:00  \n",
       "1         39                  Alfred Place            604 2019-11-01 17:00:00  \n",
       "2         37               Lygon St (East)            216 2019-11-01 17:00:00  \n",
       "3         40  Lonsdale St-Spring St (West)            627 2019-11-01 17:00:00  \n",
       "4         36               Queen St (West)            774 2019-11-01 17:00:00  "
      ]
     },
     "execution_count": 21,
     "metadata": {},
     "output_type": "execute_result"
    }
   ],
   "source": [
    "def load_and_clean_pedestrian_data(path):\n",
    "    df = pd.read_csv(path)\n",
    "    df[\"datetime\"] = pd.to_datetime(\n",
    "        {\n",
    "            \"day\": df[\"Mdate\"],\n",
    "            \"year\": df[\"Year\"],\n",
    "            \"hour\": df[\"Time\"],\n",
    "            \"month\": pd.to_datetime(df[\"Month\"], format='%B').dt.month\n",
    "        }\n",
    "    )\n",
    "    return df\n",
    "\n",
    "df = load_and_clean_pedestrian_data(DATA_PATH)\n",
    "df.head()"
   ]
  },
  {
   "cell_type": "markdown",
   "metadata": {},
   "source": [
    "### Let's have a look at what's in the data"
   ]
  },
  {
   "cell_type": "markdown",
   "metadata": {},
   "source": [
    "_Q: How many years does the dataset cover?_"
   ]
  },
  {
   "cell_type": "code",
   "execution_count": 31,
   "metadata": {},
   "outputs": [
    {
     "data": {
      "text/plain": [
       "[2009, 2010, 2011, 2012, 2013, 2014, 2015, 2016, 2017, 2018, 2019, 2020]"
      ]
     },
     "execution_count": 31,
     "metadata": {},
     "output_type": "execute_result"
    }
   ],
   "source": [
    "YEARS = sorted(df[\"Year\"].unique())\n",
    "YEARS"
   ]
  },
  {
   "cell_type": "markdown",
   "metadata": {},
   "source": [
    "_Q: How many sensors are in the datset?_"
   ]
  },
  {
   "cell_type": "code",
   "execution_count": 37,
   "metadata": {},
   "outputs": [
    {
     "data": {
      "text/plain": [
       "(69,)"
      ]
     },
     "execution_count": 37,
     "metadata": {},
     "output_type": "execute_result"
    }
   ],
   "source": [
    "SENSORS = df[\"Sensor_Name\"].unique()\n",
    "SENSORS.shape"
   ]
  },
  {
   "cell_type": "markdown",
   "metadata": {},
   "source": [
    "_Q: How many people are recorded each year?_"
   ]
  },
  {
   "cell_type": "code",
   "execution_count": 29,
   "metadata": {},
   "outputs": [
    {
     "data": {
      "text/plain": [
       "Year\n",
       "2009     62650110\n",
       "2010     93459437\n",
       "2011     90571965\n",
       "2012    102215521\n",
       "2013    117389820\n",
       "2014    169500386\n",
       "2015    209099687\n",
       "2016    228757880\n",
       "2017    216586414\n",
       "2018    261909318\n",
       "2019    266411675\n",
       "2020     65584490\n",
       "Name: Hourly_Counts, dtype: int64"
      ]
     },
     "execution_count": 29,
     "metadata": {},
     "output_type": "execute_result"
    }
   ],
   "source": [
    "year_counts = df.groupby(\"Year\")[\"Hourly_Counts\"].sum()\n",
    "year_counts"
   ]
  },
  {
   "cell_type": "markdown",
   "metadata": {},
   "source": [
    "Just eyeballing the data isn't going to cut it. Let's visualise with Pandas' plotting API.\n",
    "\n",
    "This uses the Matplotlib library, so first set it up and configure. The first line below tells Jupyter to automatically render Matplotlib plots in the cell's output. "
   ]
  },
  {
   "cell_type": "code",
   "execution_count": 47,
   "metadata": {},
   "outputs": [],
   "source": [
    "%matplotlib inline\n",
    "import matplotlib.pyplot as plt"
   ]
  },
  {
   "cell_type": "code",
   "execution_count": 50,
   "metadata": {},
   "outputs": [
    {
     "data": {
      "text/plain": [
       "<matplotlib.axes._subplots.AxesSubplot at 0x7ff380b0b250>"
      ]
     },
     "execution_count": 50,
     "metadata": {},
     "output_type": "execute_result"
    },
    {
     "data": {
      "image/png": "[encoded data removed]",
      "text/plain": [
       "<Figure size 432x288 with 1 Axes>"
      ]
     },
     "metadata": {
      "needs_background": "light"
     },
     "output_type": "display_data"
    }
   ],
   "source": [
    "year_counts.plot(title=\"Total number of footfalls by year\")"
   ]
  },
  {
   "cell_type": "markdown",
   "metadata": {},
   "source": [
    "_Tip: always title your plots._"
   ]
  },
  {
   "cell_type": "markdown",
   "metadata": {},
   "source": [
    "Problem is that the number of sensors increases."
   ]
  },
  {
   "cell_type": "code",
   "execution_count": 55,
   "metadata": {},
   "outputs": [
    {
     "data": {
      "text/plain": [
       "<matplotlib.axes._subplots.AxesSubplot at 0x7ff3811f33d0>"
      ]
     },
     "execution_count": 55,
     "metadata": {},
     "output_type": "execute_result"
    },
    {
     "data": {
      "image/png": "[encoded data removed]",
      "text/plain": [
       "<Figure size 432x288 with 1 Axes>"
      ]
     },
     "metadata": {
      "needs_background": "light"
     },
     "output_type": "display_data"
    }
   ],
   "source": [
    "num_sensors = df.groupby(\"Year\")[\"Sensor_Name\"].nunique()\n",
    "num_sensors.plot(title=\"Total number of sensors by year\")"
   ]
  },
  {
   "cell_type": "markdown",
   "metadata": {},
   "source": [
    "Let's normalise by number of sensors."
   ]
  },
  {
   "cell_type": "code",
   "execution_count": 70,
   "metadata": {},
   "outputs": [
    {
     "data": {
      "image/png": "[encoded data removed]",
      "text/plain": [
       "<Figure size 432x288 with 1 Axes>"
      ]
     },
     "metadata": {
      "needs_background": "light"
     },
     "output_type": "display_data"
    }
   ],
   "source": [
    "year_counts_df  = df.groupby(\"Year\").agg({\"Hourly_Counts\":sum, \"Sensor_Name\": \"nunique\"})\n",
    "year_counts_df[\"count_per_sensor\"] = year_counts_df[\"Hourly_Counts\"] / year_counts_df[\"Sensor_Name\"]\n",
    "year_counts_df[\"count_per_sensor\"].plot(title=\"Yearly footfalls/sensers\");"
   ]
  },
  {
   "cell_type": "markdown",
   "metadata": {},
   "source": [
    "Not clear how helpful this is... maybe newer sensors are more likely to be in less travelled areas and our footfalls shouldn't be spread across them to the same weight as more trafficked sensors.\n"
   ]
  },
  {
   "cell_type": "code",
   "execution_count": 181,
   "metadata": {},
   "outputs": [],
   "source": [
    "# Build up a DataFrame of sensor names with their average yearly counts and first year of existence:\n",
    "\n",
    "# get average yearly counts\n",
    "res_df = pd.DataFrame(\n",
    "    df.groupby(\"Sensor_Name\").apply(\n",
    "        lambda df:df.groupby(\"Year\")[\"Hourly_Counts\"].sum().mean()\n",
    "    ), \n",
    "    columns=[\"average_yearly_counts\"]\n",
    ")\n",
    "\n",
    "# get first year of existence for each sensor\n",
    "sorted_df = df.sort_values(by=\"Year\")\n",
    "res_df[\"first_year\"] = [\n",
    "    sorted_df[sorted_df[\"Sensor_Name\"] == sensor].iloc[0][\"Year\"]\n",
    "    for sensor in res_df.index\n",
    "]"
   ]
  },
  {
   "cell_type": "code",
   "execution_count": 184,
   "metadata": {},
   "outputs": [
    {
     "data": {
      "image/png": "[encoded data removed]",
      "text/plain": [
       "<Figure size 432x288 with 1 Axes>"
      ]
     },
     "metadata": {
      "needs_background": "light"
     },
     "output_type": "display_data"
    }
   ],
   "source": [
    "res_df.plot.scatter(x=\"first_year\", y=\"average_yearly_counts\", title=\"Average yearly sensor counts compared with sensor first year\");"
   ]
  },
  {
   "cell_type": "code",
   "execution_count": 177,
   "metadata": {},
   "outputs": [
    {
     "data": {
      "text/html": [
       "<div>\n",
       "<style scoped>\n",
       "    .dataframe tbody tr th:only-of-type {\n",
       "        vertical-align: middle;\n",
       "    }\n",
       "\n",
       "    .dataframe tbody tr th {\n",
       "        vertical-align: top;\n",
       "    }\n",
       "\n",
       "    .dataframe thead th {\n",
       "        text-align: right;\n",
       "    }\n",
       "</style>\n",
       "<table border=\"1\" class=\"dataframe\">\n",
       "  <thead>\n",
       "    <tr style=\"text-align: right;\">\n",
       "      <th></th>\n",
       "      <th>average_yearly_counts</th>\n",
       "      <th>first_year</th>\n",
       "    </tr>\n",
       "    <tr>\n",
       "      <th>Sensor_Name</th>\n",
       "      <th></th>\n",
       "      <th></th>\n",
       "    </tr>\n",
       "  </thead>\n",
       "  <tbody>\n",
       "    <tr>\n",
       "      <th>231 Bourke St</th>\n",
       "      <td>5.240140e+05</td>\n",
       "      <td>2020</td>\n",
       "    </tr>\n",
       "    <tr>\n",
       "      <th>Alfred Place</th>\n",
       "      <td>1.479692e+06</td>\n",
       "      <td>2014</td>\n",
       "    </tr>\n",
       "    <tr>\n",
       "      <th>Australia on Collins</th>\n",
       "      <td>4.624565e+06</td>\n",
       "      <td>2009</td>\n",
       "    </tr>\n",
       "    <tr>\n",
       "      <th>Birrarung Marr</th>\n",
       "      <td>2.376984e+06</td>\n",
       "      <td>2009</td>\n",
       "    </tr>\n",
       "    <tr>\n",
       "      <th>Bourke St - Spencer St (North)</th>\n",
       "      <td>3.449340e+06</td>\n",
       "      <td>2018</td>\n",
       "    </tr>\n",
       "    <tr>\n",
       "      <th>...</th>\n",
       "      <td>...</td>\n",
       "      <td>...</td>\n",
       "    </tr>\n",
       "    <tr>\n",
       "      <th>Tin Alley-Swanston St (West)</th>\n",
       "      <td>7.214050e+05</td>\n",
       "      <td>2015</td>\n",
       "    </tr>\n",
       "    <tr>\n",
       "      <th>Town Hall (West)</th>\n",
       "      <td>1.113845e+07</td>\n",
       "      <td>2009</td>\n",
       "    </tr>\n",
       "    <tr>\n",
       "      <th>Victoria Point</th>\n",
       "      <td>1.407888e+06</td>\n",
       "      <td>2009</td>\n",
       "    </tr>\n",
       "    <tr>\n",
       "      <th>Waterfront City</th>\n",
       "      <td>7.838506e+05</td>\n",
       "      <td>2009</td>\n",
       "    </tr>\n",
       "    <tr>\n",
       "      <th>Webb Bridge</th>\n",
       "      <td>1.195398e+06</td>\n",
       "      <td>2009</td>\n",
       "    </tr>\n",
       "  </tbody>\n",
       "</table>\n",
       "<p>69 rows × 2 columns</p>\n",
       "</div>"
      ],
      "text/plain": [
       "                                average_yearly_counts  first_year\n",
       "Sensor_Name                                                      \n",
       "231 Bourke St                            5.240140e+05        2020\n",
       "Alfred Place                             1.479692e+06        2014\n",
       "Australia on Collins                     4.624565e+06        2009\n",
       "Birrarung Marr                           2.376984e+06        2009\n",
       "Bourke St - Spencer St (North)           3.449340e+06        2018\n",
       "...                                               ...         ...\n",
       "Tin Alley-Swanston St (West)             7.214050e+05        2015\n",
       "Town Hall (West)                         1.113845e+07        2009\n",
       "Victoria Point                           1.407888e+06        2009\n",
       "Waterfront City                          7.838506e+05        2009\n",
       "Webb Bridge                              1.195398e+06        2009\n",
       "\n",
       "[69 rows x 2 columns]"
      ]
     },
     "execution_count": 177,
     "metadata": {},
     "output_type": "execute_result"
    }
   ],
   "source": [
    "res_df"
   ]
  },
  {
   "cell_type": "markdown",
   "metadata": {},
   "source": [
    "### Pandas' plotting API\n",
    "* Built on Matplotlib (has its own API, which Pandas hides)\n",
    "* Really useful for quick exploratory visualisation of data in `DataFrame`s and `series`\n",
    "\n",
    "### Limitations\n",
    "* Pandas plotting API is limited\n",
    "** Can break out into full Matplotlib's API\n",
    "** Matplotlib is very powerful, but can slow/hard to learn\n",
    "* static image: can’t zoom or toggle visibility of data\n",
    "* "
   ]
  },
  {
   "cell_type": "markdown",
   "metadata": {},
   "source": [
    "### Using Matplotlib's API with Pandas\n",
    "\n",
    "TODO: plot that returns a an ax and then does stuff with it"
   ]
  },
  {
   "cell_type": "markdown",
   "metadata": {},
   "source": [
    "### Matplotlib Themes\n",
    "TODO"
   ]
  },
  {
   "cell_type": "markdown",
   "metadata": {},
   "source": [
    "### Use Seaborn\n",
    "\n",
    "Seaborn is a library built on top of Matplotlib. Provides:\n",
    "\n",
    "* API designed for statistical graphing\n",
    "* Recipes for producing specialised plots\n",
    "* Imporved visual appearance\n",
    "\n",
    "**Links**\n",
    "* [Seaborn Overview](https://seaborn.pydata.org/introduction.html)\n",
    "* [Seaborn Gallery](https://seaborn.pydata.org/examples/index.html)\n",
    "\n",
    "Can just use to get improved visuals: TODO one liner import and then re-run plots "
   ]
  },
  {
   "cell_type": "markdown",
   "metadata": {},
   "source": [
    "## Other Python Libraries\n",
    "\n",
    "TODO: add python data viz landscape"
   ]
  },
  {
   "cell_type": "code",
   "execution_count": null,
   "metadata": {},
   "outputs": [],
   "source": []
  }
 ],
 "metadata": {
  "kernelspec": {
   "display_name": "Python 3",
   "language": "python",
   "name": "python3"
  },
  "language_info": {
   "codemirror_mode": {
    "name": "ipython",
    "version": 3
   },
   "file_extension": ".py",
   "mimetype": "text/x-python",
   "name": "python",
   "nbconvert_exporter": "python",
   "pygments_lexer": "ipython3",
   "version": "3.8.3"
  }
 },
 "nbformat": 4,
 "nbformat_minor": 4
}
